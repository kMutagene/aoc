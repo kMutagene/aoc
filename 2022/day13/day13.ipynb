{
 "cells": [
  {
   "cell_type": "code",
   "execution_count": 3,
   "metadata": {},
   "outputs": [],
   "source": [
    "import json\n",
    "\n",
    "def chunks(lst, n):\n",
    "    \"\"\"Yield successive n-sized chunks from lst.\"\"\"\n",
    "    for i in range(0, len(lst), n):\n",
    "        yield lst[i:i + n]\n",
    "\n",
    "def read_input():\n",
    "    pairs = []\n",
    "\n",
    "    with open(\"input.txt\",\"r\") as f:\n",
    "        for line in f:\n",
    "            if line != \"\\n\":\n",
    "                pairs.append(json.loads(line.replace(\"\\n\",\"\")))\n",
    "\n",
    "    return pairs\n",
    "\n",
    "def read_input_pairs():\n",
    "\n",
    "    pairs = read_input()\n",
    "\n",
    "    pairs = list(chunks(pairs, 2))\n",
    "\n",
    "    return pairs"
   ]
  },
  {
   "cell_type": "code",
   "execution_count": 4,
   "metadata": {},
   "outputs": [
    {
     "data": {
      "text/plain": [
       "5330"
      ]
     },
     "execution_count": 4,
     "metadata": {},
     "output_type": "execute_result"
    }
   ],
   "source": [
    "pairs = read_input_pairs()\n",
    "\n",
    "def match_packet(left: list | int, right: list | int) -> int:\n",
    "    if isinstance(left,int):\n",
    "        if isinstance(right,int): # l: int, r: int\n",
    "            # print(f'compare {left} vs {right}')\n",
    "            if left < right:\n",
    "                # print('Left side is smaller, so inputs are in the right order\\n')\n",
    "                return 1\n",
    "            elif right < left:\n",
    "                # print('Right side is smaller, so inputs are not in the right order\\n')\n",
    "                return -1\n",
    "            else:\n",
    "                return 0\n",
    "        else: # l: int, r: list\n",
    "            # print(f'compare {left} vs {right}')\n",
    "            # print(f'Mixed types; convert right to [{right}] and retry comparison')\n",
    "            return match_packet([left], right)\n",
    "    else:\n",
    "        if isinstance(right,int): # l: list, r: int\n",
    "            # print(f'compare {left} vs {right}')\n",
    "            # print(f'Mixed types; convert left to [{left}] and retry comparison')\n",
    "            return match_packet(left, [right])\n",
    "        else: # l: list, r: list\n",
    "            # print(f'compare {left} vs {right}')\n",
    "            len_l, len_r = len(left), len(right)\n",
    "            for l,r in zip(left, right):\n",
    "                res = match_packet(l,r)\n",
    "                if res != 0: return res\n",
    "\n",
    "            if len_l < len_r:\n",
    "                # print('Left side ran out of items, so inputs are in the right order\\n')\n",
    "                return 1\n",
    "            if len_l > len_r:\n",
    "                # print('Right side ran out of items, so inputs are not in the right order\\n')\n",
    "                return -1\n",
    "            else: return 0\n",
    "\n",
    "matched_packets = []\n",
    "for i,pair in enumerate(pairs):\n",
    "    # print(f'Pair == {i+1} ==')\n",
    "    matched_packets.append(match_packet(pair[0], pair[1]))\n",
    "\n",
    "result = sum([index + 1 for index,matched in enumerate(matched_packets) if matched > 0])\n",
    "\n",
    "result"
   ]
  },
  {
   "attachments": {},
   "cell_type": "markdown",
   "metadata": {},
   "source": [
    "# Part2\n",
    "\n",
    "use the packet matching function for sorting the packets"
   ]
  },
  {
   "cell_type": "code",
   "execution_count": 7,
   "metadata": {},
   "outputs": [
    {
     "data": {
      "text/plain": [
       "27648"
      ]
     },
     "execution_count": 7,
     "metadata": {},
     "output_type": "execute_result"
    }
   ],
   "source": [
    "packets = read_input()\n",
    "markers = [[[6]], [[2]]]\n",
    "x = packets + markers\n",
    "\n",
    "from functools import cmp_to_key\n",
    "markers = [[[6]], [[2]]]\n",
    "res2 = sorted(x, key=cmp_to_key(match_packet), reverse=True)\n",
    "idx1, idx2 = [res2.index(m) for m in markers]\n",
    "\n",
    "(idx1 + 1) * (idx2 + 1)"
   ]
  }
 ],
 "metadata": {
  "kernelspec": {
   "display_name": "aoc2022",
   "language": "python",
   "name": "python3"
  },
  "language_info": {
   "codemirror_mode": {
    "name": "ipython",
    "version": 3
   },
   "file_extension": ".py",
   "mimetype": "text/x-python",
   "name": "python",
   "nbconvert_exporter": "python",
   "pygments_lexer": "ipython3",
   "version": "3.10.8"
  },
  "orig_nbformat": 4,
  "vscode": {
   "interpreter": {
    "hash": "892042974f9d78ef470c6db4ef667a5785649316c6259289adee3e6c48ada788"
   }
  }
 },
 "nbformat": 4,
 "nbformat_minor": 2
}
