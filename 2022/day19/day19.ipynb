{
 "cells": [
  {
   "cell_type": "code",
   "execution_count": 2,
   "metadata": {},
   "outputs": [],
   "source": [
    "import networkx as nx"
   ]
  },
  {
   "attachments": {},
   "cell_type": "markdown",
   "metadata": {},
   "source": [
    "# Part 1\n",
    "\n",
    "Idea: Problem is finding the maximum path sum in a tree that represents the sequential actions taken per minute.\n",
    "\n",
    "- create a DAG of actions per blueprint with networkx, get all paths of length 24 and calculate highest score"
   ]
  },
  {
   "cell_type": "code",
   "execution_count": 8,
   "metadata": {},
   "outputs": [],
   "source": [
    "from dataclasses import dataclass\n",
    "from enum import Enum\n",
    "\n",
    "class Robot(Enum):\n",
    "    ORE = 1\n",
    "    CLAY = 2\n",
    "    OBSIDIAN = 3\n",
    "    GEODE = 4\n",
    "\n",
    "ROBOT_TYPES = [Robot.ORE, Robot.CLAY, Robot.OBSIDIAN, Robot.GEODE]\n",
    "\n",
    "@dataclass\n",
    "class Blueprint:\n",
    "    # cost only ore\n",
    "    ore_robot_cost: int\n",
    "    # cost only ore\n",
    "    clay_robot_cost: int\n",
    "    # cost ore and clay\n",
    "    obsidian_robot_cost: tuple[int,int]\n",
    "    # cost ore and obsidian\n",
    "    geode_robot_cost: tuple[int,int]\n",
    "\n",
    "@dataclass\n",
    "class State:\n",
    "    ore:int\n",
    "    ore_robots: int\n",
    "    clay: int\n",
    "    clay_robots: int\n",
    "    obsidian: int\n",
    "    obsidian_robots: int\n",
    "    geodes: int\n",
    "    geode_robots: int\n",
    "\n",
    "    def can_build(self, blueprint: Blueprint, robot: Robot):\n",
    "        match robot:\n",
    "            case(Robot.ORE): return self.ore >= blueprint.ore_robot_cost\n",
    "            case(Robot.CLAY):  return self.clay >= blueprint.clay_robot_cost\n",
    "            case(Robot.OBSIDIAN): \n",
    "                ore, clay = blueprint.obsidian_robot_cost\n",
    "                return (self.ore >= ore and self.clay >= clay)\n",
    "            case(Robot.GEODE): \n",
    "                ore, obs = blueprint.geode_robot_cost\n",
    "                return (self.ore >= ore and self.obsidian >= obs)\n",
    "\n",
    "    def advance(self, minutes=1):\n",
    "        for _ in range(minutes):\n",
    "            self.ore += self.ore_robots\n",
    "            self.clay += self.clay_robots\n",
    "            self.obsidian += self.obsidian_robots\n",
    "            self.geodes += self.geode_robots"
   ]
  },
  {
   "cell_type": "code",
   "execution_count": 10,
   "metadata": {},
   "outputs": [
    {
     "data": {
      "text/plain": [
       "State(ore=3, ore_robots=1, clay=3, clay_robots=1, obsidian=3, obsidian_robots=1, geodes=3, geode_robots=1)"
      ]
     },
     "execution_count": 10,
     "metadata": {},
     "output_type": "execute_result"
    }
   ],
   "source": [
    "s = State(0,1,0,1,0,1,0,1)\n",
    "s.advance(3)\n",
    "s"
   ]
  }
 ],
 "metadata": {
  "kernelspec": {
   "display_name": "Python 3",
   "language": "python",
   "name": "python3"
  },
  "language_info": {
   "codemirror_mode": {
    "name": "ipython",
    "version": 3
   },
   "file_extension": ".py",
   "mimetype": "text/x-python",
   "name": "python",
   "nbconvert_exporter": "python",
   "pygments_lexer": "ipython3",
   "version": "3.10.8 | packaged by conda-forge | (main, Nov 24 2022, 14:07:00) [MSC v.1916 64 bit (AMD64)]"
  },
  "orig_nbformat": 4,
  "vscode": {
   "interpreter": {
    "hash": "bcaa4bac850ce48d16db976eb87de069962b872852cf1c3edc2d73418a22cb7e"
   }
  }
 },
 "nbformat": 4,
 "nbformat_minor": 2
}
