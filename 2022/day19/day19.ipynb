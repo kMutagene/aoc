{
 "cells": [
  {
   "cell_type": "code",
   "execution_count": 1,
   "metadata": {},
   "outputs": [],
   "source": [
    "import networkx as nx\n",
    "import re"
   ]
  },
  {
   "attachments": {},
   "cell_type": "markdown",
   "metadata": {},
   "source": [
    "# Part 1\n",
    "\n",
    "Idea= Problem is finding the maximum path sum in a tree that represents the sequential actions taken per minute.\n",
    "\n",
    "- create a DAG of actions per blueprint with networkx, get all paths of length 24 and calculate highest score"
   ]
  },
  {
   "cell_type": "code",
   "execution_count": 41,
   "metadata": {},
   "outputs": [],
   "source": [
    "from dataclasses import dataclass\n",
    "from enum import Enum\n",
    "\n",
    "class Robot(Enum):\n",
    "    ORE = 1\n",
    "    CLAY = 2\n",
    "    OBSIDIAN = 3\n",
    "    GEODE = 4\n",
    "\n",
    "ROBOT_TYPES = [Robot.ORE, Robot.CLAY, Robot.OBSIDIAN, Robot.GEODE]\n",
    "\n",
    "r1 = re.compile(r'ore robot costs (?P<ore>\\d+)')\n",
    "r2 = re.compile(r'clay robot costs (?P<ore>\\d+)')\n",
    "r3 = re.compile(r'obsidian robot costs (?P<ore>\\d+) ore and (?P<clay>\\d+) clay')\n",
    "r4 = re.compile(r'geode robot costs (?P<ore>\\d+) ore and (?P<obsidian>\\d+) obsidian')\n",
    "\n",
    "@dataclass\n",
    "class Blueprint:\n",
    "    # cost only ore\n",
    "    ore_robot_cost: int\n",
    "    # cost only ore\n",
    "    clay_robot_cost: int\n",
    "    # cost ore and clay\n",
    "    obsidian_robot_cost: tuple[int,int]\n",
    "    # cost ore and obsidian\n",
    "    geode_robot_cost: tuple[int,int]\n",
    "\n",
    "    @staticmethod\n",
    "    def parse(s:str):\n",
    "        m1 = r1.search(s)\n",
    "        m2 = r2.search(s)\n",
    "        m3 = r3.search(s)\n",
    "        m4 = r4.search(s)\n",
    "\n",
    "        return Blueprint(\n",
    "            ore_robot_cost=int(m1.group(\"ore\")),\n",
    "            clay_robot_cost=int(m2.group(\"ore\")),\n",
    "            obsidian_robot_cost=(int(m3.group(\"ore\")), int(m3.group(\"clay\"))),\n",
    "            geode_robot_cost=(int(m4.group(\"ore\")), int(m4.group(\"obsidian\"))),\n",
    "        )\n",
    "\n",
    "@dataclass\n",
    "class State:\n",
    "    blueprint: Blueprint\n",
    "    ore:int\n",
    "    ore_robots: int\n",
    "    clay: int\n",
    "    clay_robots: int\n",
    "    obsidian: int\n",
    "    obsidian_robots: int\n",
    "    geodes: int\n",
    "    geode_robots: int\n",
    "\n",
    "    @staticmethod\n",
    "    def init_from_blueprint(bp: Blueprint):\n",
    "        return State(\n",
    "            blueprint= bp,\n",
    "            ore=0,\n",
    "            ore_robots=1,\n",
    "            clay=0,\n",
    "            clay_robots=0,\n",
    "            obsidian=0,\n",
    "            obsidian_robots=0,\n",
    "            geodes=0,\n",
    "            geode_robots=0\n",
    "        )\n",
    "            \n",
    "\n",
    "    def can_build(self, robot: Robot):\n",
    "        match robot:\n",
    "            case(Robot.ORE): return self.ore >= self.blueprint.ore_robot_cost\n",
    "            case(Robot.CLAY):  return self.clay >= self.blueprint.clay_robot_cost\n",
    "            case(Robot.OBSIDIAN): \n",
    "                ore, clay = self.blueprint.obsidian_robot_cost\n",
    "                return (self.ore >= ore and self.clay >= clay)\n",
    "            case(Robot.GEODE): \n",
    "                ore, obs = self.blueprint.geode_robot_cost\n",
    "                return (self.ore >= ore and self.obsidian >= obs)\n",
    "\n",
    "    def possible_continuations(self):\n",
    "        # to do \n",
    "        \"should return a list of possible continuation states\"\n",
    "        return None\n",
    "\n",
    "    def advance(self, minutes=1):\n",
    "        for _ in range(minutes):\n",
    "            self.ore += self.ore_robots\n",
    "            self.clay += self.clay_robots\n",
    "            self.obsidian += self.obsidian_robots\n",
    "            self.geodes += self.geode_robots"
   ]
  },
  {
   "cell_type": "code",
   "execution_count": 10,
   "metadata": {},
   "outputs": [
    {
     "data": {
      "text/plain": [
       "State(ore=3, ore_robots=1, clay=3, clay_robots=1, obsidian=3, obsidian_robots=1, geodes=3, geode_robots=1)"
      ]
     },
     "execution_count": 10,
     "metadata": {},
     "output_type": "execute_result"
    }
   ],
   "source": [
    "s = State(0,1,0,1,0,1,0,1)\n",
    "s.advance(3)\n",
    "s"
   ]
  },
  {
   "cell_type": "code",
   "execution_count": 43,
   "metadata": {},
   "outputs": [
    {
     "data": {
      "text/plain": [
       "Blueprint(ore_robot_cost=2, clay_robot_cost=2, obsidian_robot_cost=(2, 15), geode_robot_cost=(2, 7))"
      ]
     },
     "execution_count": 43,
     "metadata": {},
     "output_type": "execute_result"
    }
   ],
   "source": [
    "blueprints: list[Blueprint] = []\n",
    "\n",
    "with open(\"input.txt\", \"r\") as f:\n",
    "    for line in f:\n",
    "        blueprints.append(Blueprint.parse(line.rstrip()))\n",
    "\n",
    "blueprints[1]\n"
   ]
  },
  {
   "cell_type": "code",
   "execution_count": 44,
   "metadata": {},
   "outputs": [
    {
     "data": {
      "text/plain": [
       "State(blueprint=Blueprint(ore_robot_cost=2, clay_robot_cost=2, obsidian_robot_cost=(2, 15), geode_robot_cost=(2, 7)), ore=0, ore_robots=1, clay=0, clay_robots=0, obsidian=0, obsidian_robots=0, geodes=0, geode_robots=0)"
      ]
     },
     "execution_count": 44,
     "metadata": {},
     "output_type": "execute_result"
    }
   ],
   "source": [
    "starting_states = [State.init_from_blueprint(bp) for bp in blueprints]\n",
    "\n",
    "starting_states[1]"
   ]
  }
 ],
 "metadata": {
  "kernelspec": {
   "display_name": "Python 3",
   "language": "python",
   "name": "python3"
  },
  "language_info": {
   "codemirror_mode": {
    "name": "ipython",
    "version": 3
   },
   "file_extension": ".py",
   "mimetype": "text/x-python",
   "name": "python",
   "nbconvert_exporter": "python",
   "pygments_lexer": "ipython3",
   "version": "3.10.8"
  },
  "orig_nbformat": 4,
  "vscode": {
   "interpreter": {
    "hash": "bcaa4bac850ce48d16db976eb87de069962b872852cf1c3edc2d73418a22cb7e"
   }
  }
 },
 "nbformat": 4,
 "nbformat_minor": 2
}
