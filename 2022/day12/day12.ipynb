{
 "cells": [
  {
   "cell_type": "code",
   "execution_count": 6,
   "metadata": {},
   "outputs": [],
   "source": [
    "import networkx as nx"
   ]
  },
  {
   "cell_type": "code",
   "execution_count": 7,
   "metadata": {},
   "outputs": [],
   "source": [
    "hills = []\n",
    "\n",
    "start_pos = None\n",
    "end_pos = None\n",
    "\n",
    "def get_elevation(c:str):\n",
    "    match(c):\n",
    "        case \"S\": return ord('a')\n",
    "        case \"E\": return ord('z')\n",
    "        case _: return ord(c)\n",
    "\n",
    "with open(\"input.txt\", \"r\") as f:\n",
    "    for line in f:\n",
    "        clean = line.replace(\"\\n\",\"\")\n",
    "        hills.append(list(clean))"
   ]
  },
  {
   "cell_type": "code",
   "execution_count": 14,
   "metadata": {},
   "outputs": [
    {
     "data": {
      "text/plain": [
       "97"
      ]
     },
     "execution_count": 14,
     "metadata": {},
     "output_type": "execute_result"
    }
   ],
   "source": [
    "edge_r, edge_c = len(hills) - 1, len(hills[0]) - 1\n",
    "\n",
    "G = nx.DiGraph()\n",
    "\n",
    "# add edges\n",
    "for row_index,row in enumerate(hills):\n",
    "    for col_index,hill in enumerate(row):\n",
    "        current_elevation = get_elevation(hill)\n",
    "        current_node = (row_index, col_index)\n",
    "        if hill == \"S\": start_pos = current_node\n",
    "        if hill == \"E\": end_pos = current_node\n",
    "        neighbours = []\n",
    "\n",
    "        if row_index > 0:\n",
    "            neighbours.append((row_index-1, col_index))\n",
    "        \n",
    "        if row_index < edge_r:\n",
    "             neighbours.append((row_index+1, col_index))\n",
    "\n",
    "        if col_index > 0:\n",
    "            neighbours.append((row_index, col_index-1))\n",
    "        \n",
    "        if col_index < edge_c:\n",
    "             neighbours.append((row_index, col_index+1))\n",
    "\n",
    "        for (n_r, n_c) in neighbours:\n",
    "            neighbour_elevation = get_elevation(hills[n_r][n_c])\n",
    "            if neighbour_elevation <= current_elevation + 1:\n",
    "                s = current_node\n",
    "                t = (n_r, n_c)\n",
    "                G.add_node(s, elevation = current_elevation)\n",
    "                G.add_node(t, elevation = neighbour_elevation)\n",
    "                G.add_edge(s,t)\n",
    "\n",
    "G.nodes[(1,2)][\"elevation\"]"
   ]
  },
  {
   "cell_type": "code",
   "execution_count": 60,
   "metadata": {},
   "outputs": [
    {
     "data": {
      "text/plain": [
       "((20, 0), (20, 135))"
      ]
     },
     "execution_count": 60,
     "metadata": {},
     "output_type": "execute_result"
    }
   ],
   "source": [
    "start_pos, end_pos"
   ]
  },
  {
   "cell_type": "code",
   "execution_count": 63,
   "metadata": {},
   "outputs": [
    {
     "data": {
      "text/plain": [
       "447"
      ]
     },
     "execution_count": 63,
     "metadata": {},
     "output_type": "execute_result"
    }
   ],
   "source": [
    "shortest_path = nx.shortest_path_length(G, start_pos, end_pos)\n",
    "\n",
    "shortest_path"
   ]
  },
  {
   "attachments": {},
   "cell_type": "markdown",
   "metadata": {},
   "source": [
    "## Part 2\n",
    "\n",
    "Get all nodes with elevation `ord('a')` and get shortest paths for all"
   ]
  },
  {
   "cell_type": "code",
   "execution_count": 27,
   "metadata": {},
   "outputs": [
    {
     "data": {
      "text/plain": [
       "446"
      ]
     },
     "execution_count": 27,
     "metadata": {},
     "output_type": "execute_result"
    }
   ],
   "source": [
    "zero_nodes = [pos for pos,data in list(G.nodes(data=True)) if data[\"elevation\"] == ord('a')]\n",
    "\n",
    "paths = []\n",
    "\n",
    "for start in zero_nodes:\n",
    "    path = None\n",
    "    try:\n",
    "        path = nx.shortest_path_length(G,start,end_pos)\n",
    "        paths.append(path)\n",
    "    except:\n",
    "        pass\n",
    "\n",
    "sorted(paths)[0]"
   ]
  }
 ],
 "metadata": {
  "kernelspec": {
   "display_name": "aoc2022",
   "language": "python",
   "name": "python3"
  },
  "language_info": {
   "codemirror_mode": {
    "name": "ipython",
    "version": 3
   },
   "file_extension": ".py",
   "mimetype": "text/x-python",
   "name": "python",
   "nbconvert_exporter": "python",
   "pygments_lexer": "ipython3",
   "version": "3.10.8"
  },
  "orig_nbformat": 4,
  "vscode": {
   "interpreter": {
    "hash": "892042974f9d78ef470c6db4ef667a5785649316c6259289adee3e6c48ada788"
   }
  }
 },
 "nbformat": 4,
 "nbformat_minor": 2
}
